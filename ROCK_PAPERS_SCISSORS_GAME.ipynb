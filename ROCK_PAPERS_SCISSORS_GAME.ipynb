{
 "cells": [
  {
   "cell_type": "code",
   "execution_count": 1,
   "id": "f501d29c",
   "metadata": {},
   "outputs": [],
   "source": [
    "#Creating a method to take user input. "
   ]
  },
  {
   "cell_type": "code",
   "execution_count": 2,
   "id": "006ff933",
   "metadata": {},
   "outputs": [],
   "source": [
    "def user_input():\n",
    "    option = str(input())\n",
    "    if(option.islower()):\n",
    "        option = option.upper()\n",
    "    return option"
   ]
  },
  {
   "cell_type": "code",
   "execution_count": 3,
   "id": "5af7e39c",
   "metadata": {},
   "outputs": [],
   "source": [
    "#Creating list of options for computer to pick"
   ]
  },
  {
   "cell_type": "code",
   "execution_count": 4,
   "id": "01e601a8",
   "metadata": {},
   "outputs": [],
   "source": [
    "comp_options = [\"ROCK\",\"PAPER\",\"SCISSORS\",\"LIZARD\",\"SPOCK\"]"
   ]
  },
  {
   "cell_type": "code",
   "execution_count": 5,
   "id": "e453749f",
   "metadata": {},
   "outputs": [],
   "source": [
    "#Creating a method that randomly chooses an option from the list. We need to import random for this\n",
    "import random"
   ]
  },
  {
   "cell_type": "code",
   "execution_count": 6,
   "id": "60af811d",
   "metadata": {},
   "outputs": [],
   "source": [
    "def select_option():\n",
    "    choosen_option = random.choice(comp_options)\n",
    "    return choosen_option"
   ]
  },
  {
   "cell_type": "code",
   "execution_count": 7,
   "id": "44e9694f",
   "metadata": {},
   "outputs": [
    {
     "name": "stdout",
     "output_type": "stream",
     "text": [
      "ROCK\n"
     ]
    }
   ],
   "source": [
    "print(select_option())"
   ]
  },
  {
   "cell_type": "code",
   "execution_count": 8,
   "id": "1aaa104b",
   "metadata": {},
   "outputs": [],
   "source": [
    "#Creating method to compare options from both user and computer. Two lists created to compare."
   ]
  },
  {
   "cell_type": "code",
   "execution_count": 14,
   "id": "363a0170",
   "metadata": {},
   "outputs": [],
   "source": [
    "def compare():\n",
    "    n= 0\n",
    "    score= 0\n",
    "    while(n<3):\n",
    "        user_sel = user_input()\n",
    "        comp_sel = select_option()\n",
    "        if(user_sel.isdigit() or user_sel==\"\"):\n",
    "            print(\"Invalid option! Try again\")\n",
    "            user_sel = user_input()\n",
    "        if(user_sel==\"Q\"):\n",
    "            n=3\n",
    "        else:\n",
    "            if(user_sel==\"ROCK\" and comp_sel==\"LIZARD\" or user_sel==\"ROCK\" and comp_sel==\"SCISSORS\" or\n",
    "              user_sel==\"PAPER\" and comp_sel==\"ROCK\" or user_sel==\"PAPER\" and comp_sel==\"SPOCK\" or\n",
    "              user_sel==\"LIZARD\" and comp_sel==\"PAPER\" or user_sel==\"LIZARD\" and comp_sel==\"SPOCK\" or\n",
    "              user_sel==\"SPOCK\" and comp_sel==\"ROCK\" or user_sel==\"SPOCK\" and comp_sel==\"SCISSORS\" or\n",
    "              user_sel==\"SCISSORS\" and comp_sel==\"PAPER\" or user_sel==\"SCISSORS\" and comp_sel==\"LIZARD\"):\n",
    "                score = score + 1\n",
    "                print(\"You entered: \" + user_sel + \" while computer chose \"+ comp_sel + \". You win!\" + \" Your score is \" + str(score))\n",
    "            elif(user_sel==comp_sel):\n",
    "                print(\"You entered: \" + user_sel + \" while computer chose \"+ comp_sel + \". Draw!\" + \" Your score is \" + str(score))\n",
    "            else:\n",
    "                print(\"You entered: \" + user_sel + \" while computer chose \"+ comp_sel + \". You lose!\" +\" Your score is \" + str(score))"
   ]
  },
  {
   "cell_type": "code",
   "execution_count": 15,
   "id": "9ec562e7",
   "metadata": {},
   "outputs": [
    {
     "name": "stdout",
     "output_type": "stream",
     "text": [
      "Hi there. Welcome to a game of ROCK,PAPER,SCISSORS,LIZARD AND SPOCK. Please be aware to enter only the values given here. \n",
      "Please enter Q to exit the game.\n",
      "\n",
      "\n",
      "ROCK\n",
      "You entered: ROCK while computer chose SCISSORS. You win! Your score is 1\n",
      "SCISSORS\n",
      "You entered: SCISSORS while computer chose PAPER. You win! Your score is 2\n",
      "SCISSORS\n",
      "You entered: SCISSORS while computer chose ROCK. You lose! Your score is 2\n",
      "ROCK\n",
      "You entered: ROCK while computer chose SCISSORS. You win! Your score is 3\n",
      "ROCK\n",
      "You entered: ROCK while computer chose SCISSORS. You win! Your score is 4\n",
      "ROCK\n",
      "You entered: ROCK while computer chose SPOCK. You lose! Your score is 4\n",
      "ROCK\n",
      "You entered: ROCK while computer chose ROCK. Draw! Your score is 4\n",
      "q\n"
     ]
    }
   ],
   "source": [
    "print(\"Hi there. Welcome to a game of ROCK,PAPER,SCISSORS,LIZARD AND SPOCK. Please be aware to enter only the values given here. \\nPlease enter Q to exit the game.\")\n",
    "print(\"\\n\")\n",
    "compare()"
   ]
  }
 ],
 "metadata": {
  "kernelspec": {
   "display_name": "Python 3",
   "language": "python",
   "name": "python3"
  },
  "language_info": {
   "codemirror_mode": {
    "name": "ipython",
    "version": 3
   },
   "file_extension": ".py",
   "mimetype": "text/x-python",
   "name": "python",
   "nbconvert_exporter": "python",
   "pygments_lexer": "ipython3",
   "version": "3.8.8"
  }
 },
 "nbformat": 4,
 "nbformat_minor": 5
}
